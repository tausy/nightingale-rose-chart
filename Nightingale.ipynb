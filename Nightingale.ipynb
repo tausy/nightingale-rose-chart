{
 "cells": [
  {
   "cell_type": "markdown",
   "metadata": {},
   "source": [
    "# Florence Nightingale's Visualization"
   ]
  },
  {
   "cell_type": "markdown",
   "metadata": {},
   "source": [
    "### Imports"
   ]
  },
  {
   "cell_type": "code",
   "execution_count": 257,
   "metadata": {},
   "outputs": [
    {
     "data": {
      "text/html": [
       "<script type=\"text/javascript\">window.PlotlyConfig = {MathJaxConfig: 'local'};</script><script type=\"text/javascript\">if (window.MathJax) {MathJax.Hub.Config({SVG: {font: \"STIX-Web\"}});}</script><script>requirejs.config({paths: { 'plotly': ['https://cdn.plot.ly/plotly-latest.min']},});if(!window._Plotly) {require(['plotly'],function(plotly) {window._Plotly=plotly;});}</script>"
      ],
      "text/vnd.plotly.v1+html": [
       "<script type=\"text/javascript\">window.PlotlyConfig = {MathJaxConfig: 'local'};</script><script type=\"text/javascript\">if (window.MathJax) {MathJax.Hub.Config({SVG: {font: \"STIX-Web\"}});}</script><script>requirejs.config({paths: { 'plotly': ['https://cdn.plot.ly/plotly-latest.min']},});if(!window._Plotly) {require(['plotly'],function(plotly) {window._Plotly=plotly;});}</script>"
      ]
     },
     "metadata": {},
     "output_type": "display_data"
    }
   ],
   "source": [
    "import numpy as np\n",
    "import pandas as pd\n",
    "import plotly\n",
    "plotly.offline.init_notebook_mode(connected=True)\n",
    "import plotly.offline as py\n",
    "import plotly.io as pio\n",
    "import plotly.graph_objs as go\n",
    "from plotly import tools"
   ]
  },
  {
   "cell_type": "markdown",
   "metadata": {},
   "source": [
    "### Read Dataset"
   ]
  },
  {
   "cell_type": "code",
   "execution_count": 163,
   "metadata": {
    "scrolled": true
   },
   "outputs": [
    {
     "data": {
      "text/html": [
       "<div>\n",
       "<style scoped>\n",
       "    .dataframe tbody tr th:only-of-type {\n",
       "        vertical-align: middle;\n",
       "    }\n",
       "\n",
       "    .dataframe tbody tr th {\n",
       "        vertical-align: top;\n",
       "    }\n",
       "\n",
       "    .dataframe thead th {\n",
       "        text-align: right;\n",
       "    }\n",
       "</style>\n",
       "<table border=\"1\" class=\"dataframe\">\n",
       "  <thead>\n",
       "    <tr style=\"text-align: right;\">\n",
       "      <th></th>\n",
       "      <th>Month</th>\n",
       "      <th>Average size of army</th>\n",
       "      <th>Zymotic diseases</th>\n",
       "      <th>Wounds &amp; injuries</th>\n",
       "      <th>All other causes</th>\n",
       "      <th>Zymotic diseases.1</th>\n",
       "      <th>Wounds &amp; injuries.1</th>\n",
       "      <th>All other causes.1</th>\n",
       "    </tr>\n",
       "  </thead>\n",
       "  <tbody>\n",
       "    <tr>\n",
       "      <th>0</th>\n",
       "      <td>Apr 1854</td>\n",
       "      <td>8571</td>\n",
       "      <td>1</td>\n",
       "      <td>0</td>\n",
       "      <td>5</td>\n",
       "      <td>1.4</td>\n",
       "      <td>0.0</td>\n",
       "      <td>7.0</td>\n",
       "    </tr>\n",
       "    <tr>\n",
       "      <th>1</th>\n",
       "      <td>May 1854</td>\n",
       "      <td>23333</td>\n",
       "      <td>12</td>\n",
       "      <td>0</td>\n",
       "      <td>9</td>\n",
       "      <td>6.2</td>\n",
       "      <td>0.0</td>\n",
       "      <td>4.6</td>\n",
       "    </tr>\n",
       "    <tr>\n",
       "      <th>2</th>\n",
       "      <td>Jun 1854</td>\n",
       "      <td>28333</td>\n",
       "      <td>11</td>\n",
       "      <td>0</td>\n",
       "      <td>6</td>\n",
       "      <td>4.7</td>\n",
       "      <td>0.0</td>\n",
       "      <td>2.5</td>\n",
       "    </tr>\n",
       "    <tr>\n",
       "      <th>3</th>\n",
       "      <td>Jul 1854</td>\n",
       "      <td>28722</td>\n",
       "      <td>359</td>\n",
       "      <td>0</td>\n",
       "      <td>23</td>\n",
       "      <td>150.0</td>\n",
       "      <td>0.0</td>\n",
       "      <td>9.6</td>\n",
       "    </tr>\n",
       "    <tr>\n",
       "      <th>4</th>\n",
       "      <td>Aug 1854</td>\n",
       "      <td>30246</td>\n",
       "      <td>828</td>\n",
       "      <td>1</td>\n",
       "      <td>30</td>\n",
       "      <td>328.5</td>\n",
       "      <td>0.4</td>\n",
       "      <td>11.9</td>\n",
       "    </tr>\n",
       "  </tbody>\n",
       "</table>\n",
       "</div>"
      ],
      "text/plain": [
       "      Month  Average size of army  Zymotic diseases  Wounds & injuries  \\\n",
       "0  Apr 1854                  8571                 1                  0   \n",
       "1  May 1854                 23333                12                  0   \n",
       "2  Jun 1854                 28333                11                  0   \n",
       "3  Jul 1854                 28722               359                  0   \n",
       "4  Aug 1854                 30246               828                  1   \n",
       "\n",
       "   All other causes  Zymotic diseases.1  Wounds & injuries.1  \\\n",
       "0                 5                 1.4                  0.0   \n",
       "1                 9                 6.2                  0.0   \n",
       "2                 6                 4.7                  0.0   \n",
       "3                23               150.0                  0.0   \n",
       "4                30               328.5                  0.4   \n",
       "\n",
       "   All other causes.1  \n",
       "0                 7.0  \n",
       "1                 4.6  \n",
       "2                 2.5  \n",
       "3                 9.6  \n",
       "4                11.9  "
      ]
     },
     "execution_count": 163,
     "metadata": {},
     "output_type": "execute_result"
    }
   ],
   "source": [
    "nightingale = pd.read_excel('nightingale-data-1.xlsx', header=1)\n",
    "nightingale.head()"
   ]
  },
  {
   "cell_type": "markdown",
   "metadata": {},
   "source": [
    "### Create Visualization with Plotly"
   ]
  },
  {
   "cell_type": "code",
   "execution_count": 255,
   "metadata": {},
   "outputs": [
    {
     "data": {
      "application/vnd.plotly.v1+json": {
       "config": {
        "linkText": "Export to plot.ly",
        "plotlyServerURL": "https://plot.ly",
        "showLink": false
       },
       "data": [
        {
         "marker": {
          "color": "rgb(55, 56, 58)",
          "opacity": 0.8
         },
         "name": "All other causes",
         "r": [
          7,
          4.6,
          2.5,
          9.6,
          11.9,
          27.7,
          50.1,
          42.8,
          48,
          120,
          140.1,
          68.6
         ],
         "showlegend": true,
         "subplot": "polar",
         "text": [
          "Apr 1854",
          "May 1854",
          "Jun 1854",
          "Jul 1854",
          "Aug 1854",
          "Sep 1854",
          "Oct 1854",
          "Nov 1854",
          "Dec 1854",
          "Jan 1855",
          "Feb 1855",
          "Mar 1855"
         ],
         "theta": [
          "Apr 1854",
          "May 1854",
          "Jun 1854",
          "Jul 1854",
          "Aug 1854",
          "Sep 1854",
          "Oct 1854",
          "Nov 1854",
          "Dec 1854",
          "Jan 1855",
          "Feb 1855",
          "Mar 1855"
         ],
         "type": "barpolar",
         "uid": "ee0e63dc-d5bb-4244-828b-cd0fab8d73d4"
        },
        {
         "marker": {
          "color": "rgb(239, 220, 220)",
          "opacity": 0.8
         },
         "name": "Wounds & injuries",
         "r": [
          0,
          0,
          0,
          0,
          0.4,
          32.1,
          51.7,
          115.8,
          41.7,
          30.7,
          16.3,
          12.8
         ],
         "showlegend": true,
         "subplot": "polar",
         "theta": [
          "Apr 1854",
          "May 1854",
          "Jun 1854",
          "Jul 1854",
          "Aug 1854",
          "Sep 1854",
          "Oct 1854",
          "Nov 1854",
          "Dec 1854",
          "Jan 1855",
          "Feb 1855",
          "Mar 1855"
         ],
         "type": "barpolar",
         "uid": "848d75d3-d111-43fe-93b6-40a288f1f058"
        },
        {
         "marker": {
          "color": "rgb(199, 219, 249)",
          "opacity": 0.8
         },
         "name": "Zymotic diseases",
         "r": [
          1.4,
          6.2,
          4.7,
          150,
          328.5,
          312.2,
          197,
          340.6,
          631.5,
          1022.8,
          822.8,
          480.3
         ],
         "showlegend": true,
         "subplot": "polar",
         "text": [
          "Apr 1854",
          "May 1854",
          "Jun 1854",
          "Jul 1854",
          "Aug 1854",
          "Sep 1854",
          "Oct 1854",
          "Nov 1854",
          "Dec 1854",
          "Jan 1855",
          "Feb 1855",
          "Mar 1855"
         ],
         "theta": [
          "Apr 1854",
          "May 1854",
          "Jun 1854",
          "Jul 1854",
          "Aug 1854",
          "Sep 1854",
          "Oct 1854",
          "Nov 1854",
          "Dec 1854",
          "Jan 1855",
          "Feb 1855",
          "Mar 1855"
         ],
         "type": "barpolar",
         "uid": "f7d1df21-53ec-4dd9-8766-67670ff59092"
        },
        {
         "marker": {
          "color": "rgb(55, 56, 58)",
          "opacity": 0.8
         },
         "name": "All other causes",
         "r": [
          21.2,
          12.5,
          9.6,
          9.3,
          6.7,
          5,
          4.6,
          10.1,
          7.8,
          13,
          5.2,
          9.1
         ],
         "showlegend": false,
         "subplot": "polar2",
         "theta": [
          "Apr 1855",
          "May 1855",
          "Jun 1855",
          "Jul 1855",
          "Aug 1855",
          "Sep 1855",
          "Oct 1855",
          "Nov 1855",
          "Dec 1855",
          "Jan 1856",
          "Feb 1856",
          "Mar 1856"
         ],
         "type": "barpolar",
         "uid": "f691c249-a7a7-4172-aefc-a3d2c5a430e0"
        },
        {
         "marker": {
          "color": "rgb(239, 220, 220)",
          "opacity": 0.8
         },
         "name": "Wounds & injuries",
         "r": [
          17.9,
          16.6,
          64.5,
          37.7,
          44.1,
          69.4,
          13.6,
          10.5,
          5,
          0.5,
          0,
          0
         ],
         "showlegend": false,
         "subplot": "polar2",
         "theta": [
          "Apr 1855",
          "May 1855",
          "Jun 1855",
          "Jul 1855",
          "Aug 1855",
          "Sep 1855",
          "Oct 1855",
          "Nov 1855",
          "Dec 1855",
          "Jan 1856",
          "Feb 1856",
          "Mar 1856"
         ],
         "type": "barpolar",
         "uid": "78a30a99-7d20-4218-9b08-04e0a7ccfe99"
        },
        {
         "marker": {
          "color": "rgb(199, 219, 249)",
          "opacity": 0.8
         },
         "name": "Zymotic diseases",
         "r": [
          177.5,
          171.8,
          247.6,
          107.5,
          129.9,
          47.5,
          32.8,
          56.4,
          25.3,
          11.4,
          6.6,
          3.9
         ],
         "showlegend": false,
         "subplot": "polar2",
         "theta": [
          "Apr 1855",
          "May 1855",
          "Jun 1855",
          "Jul 1855",
          "Aug 1855",
          "Sep 1855",
          "Oct 1855",
          "Nov 1855",
          "Dec 1855",
          "Jan 1856",
          "Feb 1856",
          "Mar 1856"
         ],
         "type": "barpolar",
         "uid": "206dbecf-738b-4c9a-9344-ff00a922ce05"
        }
       ],
       "layout": {
        "height": 1000,
        "polar": {
         "angularaxis": {
          "rotation": -20,
          "showline": false,
          "thetaunit": "radians",
          "ticks": ""
         },
         "domain": {
          "x": [
           0.3,
           1
          ],
          "y": [
           0,
           0.55
          ]
         },
         "radialaxis": {
          "visible": false
         }
        },
        "polar2": {
         "angularaxis": {
          "showline": false,
          "thetaunit": "radians",
          "ticks": ""
         },
         "domain": {
          "x": [
           0,
           0.3
          ],
          "y": [
           0.4,
           1
          ]
         },
         "radialaxis": {
          "visible": false
         }
        },
        "title": {
         "font": {
          "family": "Droid Serif",
          "size": 20
         },
         "text": "<b>DIAGRAM<b> of the CAUSES or MORTALITY in the ARMY in the EAST <br><br><br><br> APRIL 1855 to MARCH 1856                                                                                                                      <br><br><br><br><br><br><br><br><br><br>                APRIL 1854 to MARCH 1855",
         "xanchor": "center"
        },
        "width": 1000
       }
      },
      "text/html": [
       "<div id=\"f892f31d-a9b9-4d30-99e0-f44d149ddf80\" style=\"height: 1000px; width: 1000px;\" class=\"plotly-graph-div\"></div><script type=\"text/javascript\">require([\"plotly\"], function(Plotly) { window.PLOTLYENV=window.PLOTLYENV || {};window.PLOTLYENV.BASE_URL=\"https://plot.ly\";Plotly.newPlot(\"f892f31d-a9b9-4d30-99e0-f44d149ddf80\", [{\"marker\": {\"color\": \"rgb(55, 56, 58)\", \"opacity\": 0.8}, \"name\": \"All other causes\", \"r\": [7.0, 4.6, 2.5, 9.6, 11.9, 27.7, 50.1, 42.8, 48.0, 120.0, 140.1, 68.6], \"showlegend\": true, \"subplot\": \"polar\", \"text\": [\"Apr 1854\", \"May 1854\", \"Jun 1854\", \"Jul 1854\", \"Aug 1854\", \"Sep 1854\", \"Oct 1854\", \"Nov 1854\", \"Dec 1854\", \"Jan 1855\", \"Feb 1855\", \"Mar 1855\"], \"theta\": [\"Apr 1854\", \"May 1854\", \"Jun 1854\", \"Jul 1854\", \"Aug 1854\", \"Sep 1854\", \"Oct 1854\", \"Nov 1854\", \"Dec 1854\", \"Jan 1855\", \"Feb 1855\", \"Mar 1855\"], \"type\": \"barpolar\", \"uid\": \"ee0e63dc-d5bb-4244-828b-cd0fab8d73d4\"}, {\"marker\": {\"color\": \"rgb(239, 220, 220)\", \"opacity\": 0.8}, \"name\": \"Wounds & injuries\", \"r\": [0.0, 0.0, 0.0, 0.0, 0.4, 32.1, 51.7, 115.8, 41.7, 30.7, 16.3, 12.8], \"showlegend\": true, \"subplot\": \"polar\", \"theta\": [\"Apr 1854\", \"May 1854\", \"Jun 1854\", \"Jul 1854\", \"Aug 1854\", \"Sep 1854\", \"Oct 1854\", \"Nov 1854\", \"Dec 1854\", \"Jan 1855\", \"Feb 1855\", \"Mar 1855\"], \"type\": \"barpolar\", \"uid\": \"848d75d3-d111-43fe-93b6-40a288f1f058\"}, {\"marker\": {\"color\": \"rgb(199, 219, 249)\", \"opacity\": 0.8}, \"name\": \"Zymotic diseases\", \"r\": [1.4, 6.2, 4.7, 150.0, 328.5, 312.2, 197.0, 340.6, 631.5, 1022.8, 822.8, 480.3], \"showlegend\": true, \"subplot\": \"polar\", \"text\": [\"Apr 1854\", \"May 1854\", \"Jun 1854\", \"Jul 1854\", \"Aug 1854\", \"Sep 1854\", \"Oct 1854\", \"Nov 1854\", \"Dec 1854\", \"Jan 1855\", \"Feb 1855\", \"Mar 1855\"], \"theta\": [\"Apr 1854\", \"May 1854\", \"Jun 1854\", \"Jul 1854\", \"Aug 1854\", \"Sep 1854\", \"Oct 1854\", \"Nov 1854\", \"Dec 1854\", \"Jan 1855\", \"Feb 1855\", \"Mar 1855\"], \"type\": \"barpolar\", \"uid\": \"f7d1df21-53ec-4dd9-8766-67670ff59092\"}, {\"marker\": {\"color\": \"rgb(55, 56, 58)\", \"opacity\": 0.8}, \"name\": \"All other causes\", \"r\": [21.2, 12.5, 9.6, 9.3, 6.7, 5.0, 4.6, 10.1, 7.8, 13.0, 5.2, 9.1], \"showlegend\": false, \"subplot\": \"polar2\", \"theta\": [\"Apr 1855\", \"May 1855\", \"Jun 1855\", \"Jul 1855\", \"Aug 1855\", \"Sep 1855\", \"Oct 1855\", \"Nov 1855\", \"Dec 1855\", \"Jan 1856\", \"Feb 1856\", \"Mar 1856\"], \"type\": \"barpolar\", \"uid\": \"f691c249-a7a7-4172-aefc-a3d2c5a430e0\"}, {\"marker\": {\"color\": \"rgb(239, 220, 220)\", \"opacity\": 0.8}, \"name\": \"Wounds & injuries\", \"r\": [17.9, 16.6, 64.5, 37.7, 44.1, 69.4, 13.6, 10.5, 5.0, 0.5, 0.0, 0.0], \"showlegend\": false, \"subplot\": \"polar2\", \"theta\": [\"Apr 1855\", \"May 1855\", \"Jun 1855\", \"Jul 1855\", \"Aug 1855\", \"Sep 1855\", \"Oct 1855\", \"Nov 1855\", \"Dec 1855\", \"Jan 1856\", \"Feb 1856\", \"Mar 1856\"], \"type\": \"barpolar\", \"uid\": \"78a30a99-7d20-4218-9b08-04e0a7ccfe99\"}, {\"marker\": {\"color\": \"rgb(199, 219, 249)\", \"opacity\": 0.8}, \"name\": \"Zymotic diseases\", \"r\": [177.5, 171.8, 247.6, 107.5, 129.9, 47.5, 32.8, 56.4, 25.3, 11.4, 6.6, 3.9], \"showlegend\": false, \"subplot\": \"polar2\", \"theta\": [\"Apr 1855\", \"May 1855\", \"Jun 1855\", \"Jul 1855\", \"Aug 1855\", \"Sep 1855\", \"Oct 1855\", \"Nov 1855\", \"Dec 1855\", \"Jan 1856\", \"Feb 1856\", \"Mar 1856\"], \"type\": \"barpolar\", \"uid\": \"206dbecf-738b-4c9a-9344-ff00a922ce05\"}], {\"height\": 1000, \"title\": {\"font\": {\"family\": \"Droid Serif\", \"size\": 20}, \"text\": \"<b>DIAGRAM<b> of the CAUSES or MORTALITY in the ARMY in the EAST <br><br><br><br> APRIL 1855 to MARCH 1856                                                                                                                      <br><br><br><br><br><br><br><br><br><br>                APRIL 1854 to MARCH 1855\", \"xanchor\": \"center\"}, \"width\": 1000, \"polar\": {\"angularaxis\": {\"rotation\": -20, \"showline\": false, \"thetaunit\": \"radians\", \"ticks\": \"\"}, \"domain\": {\"x\": [0.3, 1], \"y\": [0, 0.55]}, \"radialaxis\": {\"visible\": false}}, \"polar2\": {\"angularaxis\": {\"showline\": false, \"thetaunit\": \"radians\", \"ticks\": \"\"}, \"domain\": {\"x\": [0, 0.3], \"y\": [0.4, 1]}, \"radialaxis\": {\"visible\": false}}}, {\"showLink\": false, \"linkText\": \"Export to plot.ly\", \"plotlyServerURL\": \"https://plot.ly\"})});</script>"
      ],
      "text/vnd.plotly.v1+html": [
       "<div id=\"f892f31d-a9b9-4d30-99e0-f44d149ddf80\" style=\"height: 1000px; width: 1000px;\" class=\"plotly-graph-div\"></div><script type=\"text/javascript\">require([\"plotly\"], function(Plotly) { window.PLOTLYENV=window.PLOTLYENV || {};window.PLOTLYENV.BASE_URL=\"https://plot.ly\";Plotly.newPlot(\"f892f31d-a9b9-4d30-99e0-f44d149ddf80\", [{\"marker\": {\"color\": \"rgb(55, 56, 58)\", \"opacity\": 0.8}, \"name\": \"All other causes\", \"r\": [7.0, 4.6, 2.5, 9.6, 11.9, 27.7, 50.1, 42.8, 48.0, 120.0, 140.1, 68.6], \"showlegend\": true, \"subplot\": \"polar\", \"text\": [\"Apr 1854\", \"May 1854\", \"Jun 1854\", \"Jul 1854\", \"Aug 1854\", \"Sep 1854\", \"Oct 1854\", \"Nov 1854\", \"Dec 1854\", \"Jan 1855\", \"Feb 1855\", \"Mar 1855\"], \"theta\": [\"Apr 1854\", \"May 1854\", \"Jun 1854\", \"Jul 1854\", \"Aug 1854\", \"Sep 1854\", \"Oct 1854\", \"Nov 1854\", \"Dec 1854\", \"Jan 1855\", \"Feb 1855\", \"Mar 1855\"], \"type\": \"barpolar\", \"uid\": \"ee0e63dc-d5bb-4244-828b-cd0fab8d73d4\"}, {\"marker\": {\"color\": \"rgb(239, 220, 220)\", \"opacity\": 0.8}, \"name\": \"Wounds & injuries\", \"r\": [0.0, 0.0, 0.0, 0.0, 0.4, 32.1, 51.7, 115.8, 41.7, 30.7, 16.3, 12.8], \"showlegend\": true, \"subplot\": \"polar\", \"theta\": [\"Apr 1854\", \"May 1854\", \"Jun 1854\", \"Jul 1854\", \"Aug 1854\", \"Sep 1854\", \"Oct 1854\", \"Nov 1854\", \"Dec 1854\", \"Jan 1855\", \"Feb 1855\", \"Mar 1855\"], \"type\": \"barpolar\", \"uid\": \"848d75d3-d111-43fe-93b6-40a288f1f058\"}, {\"marker\": {\"color\": \"rgb(199, 219, 249)\", \"opacity\": 0.8}, \"name\": \"Zymotic diseases\", \"r\": [1.4, 6.2, 4.7, 150.0, 328.5, 312.2, 197.0, 340.6, 631.5, 1022.8, 822.8, 480.3], \"showlegend\": true, \"subplot\": \"polar\", \"text\": [\"Apr 1854\", \"May 1854\", \"Jun 1854\", \"Jul 1854\", \"Aug 1854\", \"Sep 1854\", \"Oct 1854\", \"Nov 1854\", \"Dec 1854\", \"Jan 1855\", \"Feb 1855\", \"Mar 1855\"], \"theta\": [\"Apr 1854\", \"May 1854\", \"Jun 1854\", \"Jul 1854\", \"Aug 1854\", \"Sep 1854\", \"Oct 1854\", \"Nov 1854\", \"Dec 1854\", \"Jan 1855\", \"Feb 1855\", \"Mar 1855\"], \"type\": \"barpolar\", \"uid\": \"f7d1df21-53ec-4dd9-8766-67670ff59092\"}, {\"marker\": {\"color\": \"rgb(55, 56, 58)\", \"opacity\": 0.8}, \"name\": \"All other causes\", \"r\": [21.2, 12.5, 9.6, 9.3, 6.7, 5.0, 4.6, 10.1, 7.8, 13.0, 5.2, 9.1], \"showlegend\": false, \"subplot\": \"polar2\", \"theta\": [\"Apr 1855\", \"May 1855\", \"Jun 1855\", \"Jul 1855\", \"Aug 1855\", \"Sep 1855\", \"Oct 1855\", \"Nov 1855\", \"Dec 1855\", \"Jan 1856\", \"Feb 1856\", \"Mar 1856\"], \"type\": \"barpolar\", \"uid\": \"f691c249-a7a7-4172-aefc-a3d2c5a430e0\"}, {\"marker\": {\"color\": \"rgb(239, 220, 220)\", \"opacity\": 0.8}, \"name\": \"Wounds & injuries\", \"r\": [17.9, 16.6, 64.5, 37.7, 44.1, 69.4, 13.6, 10.5, 5.0, 0.5, 0.0, 0.0], \"showlegend\": false, \"subplot\": \"polar2\", \"theta\": [\"Apr 1855\", \"May 1855\", \"Jun 1855\", \"Jul 1855\", \"Aug 1855\", \"Sep 1855\", \"Oct 1855\", \"Nov 1855\", \"Dec 1855\", \"Jan 1856\", \"Feb 1856\", \"Mar 1856\"], \"type\": \"barpolar\", \"uid\": \"78a30a99-7d20-4218-9b08-04e0a7ccfe99\"}, {\"marker\": {\"color\": \"rgb(199, 219, 249)\", \"opacity\": 0.8}, \"name\": \"Zymotic diseases\", \"r\": [177.5, 171.8, 247.6, 107.5, 129.9, 47.5, 32.8, 56.4, 25.3, 11.4, 6.6, 3.9], \"showlegend\": false, \"subplot\": \"polar2\", \"theta\": [\"Apr 1855\", \"May 1855\", \"Jun 1855\", \"Jul 1855\", \"Aug 1855\", \"Sep 1855\", \"Oct 1855\", \"Nov 1855\", \"Dec 1855\", \"Jan 1856\", \"Feb 1856\", \"Mar 1856\"], \"type\": \"barpolar\", \"uid\": \"206dbecf-738b-4c9a-9344-ff00a922ce05\"}], {\"height\": 1000, \"title\": {\"font\": {\"family\": \"Droid Serif\", \"size\": 20}, \"text\": \"<b>DIAGRAM<b> of the CAUSES or MORTALITY in the ARMY in the EAST <br><br><br><br> APRIL 1855 to MARCH 1856                                                                                                                      <br><br><br><br><br><br><br><br><br><br>                APRIL 1854 to MARCH 1855\", \"xanchor\": \"center\"}, \"width\": 1000, \"polar\": {\"angularaxis\": {\"rotation\": -20, \"showline\": false, \"thetaunit\": \"radians\", \"ticks\": \"\"}, \"domain\": {\"x\": [0.3, 1], \"y\": [0, 0.55]}, \"radialaxis\": {\"visible\": false}}, \"polar2\": {\"angularaxis\": {\"showline\": false, \"thetaunit\": \"radians\", \"ticks\": \"\"}, \"domain\": {\"x\": [0, 0.3], \"y\": [0.4, 1]}, \"radialaxis\": {\"visible\": false}}}, {\"showLink\": false, \"linkText\": \"Export to plot.ly\", \"plotlyServerURL\": \"https://plot.ly\"})});</script>"
      ]
     },
     "metadata": {},
     "output_type": "display_data"
    }
   ],
   "source": [
    "trace1A = go.Barpolar(\n",
    "    r = nightingale['All other causes.1'][0:12],\n",
    "    theta = nightingale['Month'][0:12],\n",
    "    marker = dict(\n",
    "        color = 'rgb(55, 56, 58)', \n",
    "        opacity = 0.8\n",
    "    ), \n",
    "    name = 'All other causes', \n",
    "    showlegend = True,\n",
    "    subplot = 'polar1',\n",
    "    text = nightingale['Month'][0:12]\n",
    ")\n",
    "\n",
    "trace1B = go.Barpolar(\n",
    "    r = nightingale['Wounds & injuries.1'][0:12],\n",
    "    theta = nightingale['Month'][0:12],\n",
    "    marker = dict(\n",
    "        color = 'rgb(239, 220, 220)', \n",
    "        opacity = 0.8\n",
    "    ), \n",
    "    name = 'Wounds & injuries', \n",
    "    showlegend = True,\n",
    "    subplot = 'polar1'\n",
    ")\n",
    "\n",
    "trace1C = go.Barpolar(\n",
    "    r = nightingale['Zymotic diseases.1'][0:12],\n",
    "    theta = nightingale['Month'][0:12],\n",
    "    marker = dict(\n",
    "        color = 'rgb(199, 219, 249)', \n",
    "        opacity = 0.8\n",
    "    ), \n",
    "    name = 'Zymotic diseases', \n",
    "    showlegend = True,\n",
    "    subplot = 'polar1',\n",
    "    text = nightingale['Month'][0:12]\n",
    ")\n",
    "\n",
    "trace2A = go.Barpolar(\n",
    "    r = nightingale['All other causes.1'][12:],\n",
    "    theta = nightingale['Month'][12:],\n",
    "    marker = dict(\n",
    "        color = 'rgb(55, 56, 58)', \n",
    "        opacity = 0.8\n",
    "    ), \n",
    "    name = 'All other causes', \n",
    "    showlegend = False,\n",
    "    subplot = 'polar2'\n",
    ")\n",
    "\n",
    "trace2B = go.Barpolar(\n",
    "    r = nightingale['Wounds & injuries.1'][12:],\n",
    "    theta = nightingale['Month'][12:],\n",
    "    marker = dict(\n",
    "        color = 'rgb(239, 220, 220)', \n",
    "        opacity = 0.8\n",
    "    ), \n",
    "    name = 'Wounds & injuries', \n",
    "    showlegend = False,\n",
    "    subplot = 'polar2'\n",
    ")\n",
    "\n",
    "trace2C = go.Barpolar(\n",
    "    r = nightingale['Zymotic diseases.1'][12:],\n",
    "    theta = nightingale['Month'][12:],\n",
    "    marker = dict(\n",
    "        color = 'rgb(199, 219, 249)', \n",
    "        opacity = 0.8\n",
    "    ), \n",
    "    name = 'Zymotic diseases', \n",
    "    showlegend = False,\n",
    "    subplot = 'polar2'\n",
    ")\n",
    "\n",
    "data1 = [trace1A, trace1B, trace1C, trace2A, trace2B, trace2C]\n",
    "\n",
    "layout = dict (\n",
    "    polar1 = dict(\n",
    "      domain = dict(\n",
    "        x = [0.30, 1],\n",
    "        y = [0, 0.55]\n",
    "      ),\n",
    "      radialaxis = dict(\n",
    "          visible = False\n",
    "      ),\n",
    "      angularaxis = dict(\n",
    "          showline = False,\n",
    "          ticks = \"\",\n",
    "        thetaunit = \"radians\",\n",
    "          rotation = -20\n",
    "      )\n",
    "    ),\n",
    "    \n",
    "    polar2 = dict(\n",
    "      domain = dict(\n",
    "        x = [0, 0.30],\n",
    "        y = [0.4, 1]\n",
    "      ),\n",
    "      radialaxis = dict(\n",
    "          visible = False\n",
    "      ),\n",
    "      angularaxis = dict(\n",
    "          showline = False,\n",
    "          ticks = \"\",\n",
    "        thetaunit = \"radians\"\n",
    "      )\n",
    "    ),\n",
    "    width = 1000,\n",
    "    height = 1000,\n",
    "    title = dict(\n",
    "        text = '<b>DIAGRAM<b> of the CAUSES or MORTALITY in the ARMY in the EAST '+\n",
    "        '<br><br><br><br> APRIL 1855 to MARCH 1856                                       '+\n",
    "        '                                                           '+\n",
    "        '                    <br><br><br><br><br><br><br><br><br><br>        '+\n",
    "        '   '+\n",
    "        '     APRIL 1854 to MARCH 1855',\n",
    "        font = dict(\n",
    "            size = 20,\n",
    "            family = \"Droid Serif\"\n",
    "        ),\n",
    "        xanchor = \"center\"\n",
    "    )\n",
    ")\n",
    "\n",
    "fig = go.Figure(data=data1, layout=layout)\n",
    "\n",
    "plot_url = py.iplot(fig, filename='nightingale-visualization.html', validate=False)"
   ]
  },
  {
   "cell_type": "markdown",
   "metadata": {},
   "source": [
    "### Save Visualization in HTML file"
   ]
  },
  {
   "cell_type": "code",
   "execution_count": 256,
   "metadata": {},
   "outputs": [],
   "source": [
    "plot_url = py.plot(fig, filename='nightingale-visualization.html', validate=False)"
   ]
  },
  {
   "cell_type": "markdown",
   "metadata": {},
   "source": [
    "### Save Visualization as pdf"
   ]
  },
  {
   "cell_type": "code",
   "execution_count": 259,
   "metadata": {},
   "outputs": [],
   "source": [
    "pio.write_image(fig, 'nightingale-visualization.pdf')"
   ]
  }
 ],
 "metadata": {
  "kernelspec": {
   "display_name": "Python 3",
   "language": "python",
   "name": "python3"
  },
  "language_info": {
   "codemirror_mode": {
    "name": "ipython",
    "version": 3
   },
   "file_extension": ".py",
   "mimetype": "text/x-python",
   "name": "python",
   "nbconvert_exporter": "python",
   "pygments_lexer": "ipython3",
   "version": "3.6.8"
  }
 },
 "nbformat": 4,
 "nbformat_minor": 2
}
